{
 "cells": [
  {
   "cell_type": "markdown",
   "metadata": {},
   "source": [
    "# Hybrid Qudit Surface Code Graphs"
   ]
  },
  {
   "cell_type": "markdown",
   "metadata": {},
   "source": [
    "I this notebook we are going to implement the `HybridSurfaceCodeGraph` class which allows us to create surface codes with qudits of varying dimensions which depend on the lengths of permutations given by a dessin d'enfant given by a constellation $[\\sigma, \\alpha, \\phi]$. The permuation $\\sigma$ gives the vertices of the graph of the dessin which is cellularly embedded in a Riemann surface. Each cycle of $\\sigma$ has a length and determines a qudit of the same dimension as the length of the cycle. Similarly, each cycle of $\\phi$ determines a face of the embedded graph and determines a qudit of the same dimension as the length of the cycle. The nodes corresponding to cycles in $\\alpha$ are all $2$-cycles and so define *qubits*, i.e. $2$-level systems (such as electrons). The coefficients in this implementation are in $\\mathbb{Z}$ as apposed to the usual $\\mathbb{Z}/2\\mathbb{Z}$ coefficients used in standard *qubit* surface codes. Because the dimension of each qudit in the surface code is different it is not clear what other coefficient might be useful. One may at some point want coefficients in $\\mathbb{Z}/N\\mathbb{Z}$ where $N = d_1^{k_1}d_2^{k_2} \\cdots d_n^{k_n}$, where the $d_j^{k_j}$ are the dimensions of the qudits in the surface code. Using the Fundamental Theorem of Abelian Groups this would naturally decompose into a direct product of groups\n",
    "\n",
    "\\begin{align}\n",
    "\\prod_{j} \\mathbb{Z}/p_j^{m_j}\\mathbb{Z}\n",
    "\\end{align}\n",
    "\n",
    "where each $p_j^{m_j}$ is a prime power. This may be implemented later on if there seems to be a need, but currently is not implemented. The coefficients that show up when computing boundaries are given by [multisets](https://multiset.readthedocs.io/en/stable/). "
   ]
  },
  {
   "cell_type": "code",
   "execution_count": 1,
   "metadata": {},
   "outputs": [
    {
     "name": "stdout",
     "output_type": "stream",
     "text": [
      "Requirement already satisfied: multiset in /opt/anaconda3/lib/python3.7/site-packages (2.1.1)\n",
      "\u001b[33mWARNING: You are using pip version 20.1; however, version 20.2 is available.\n",
      "You should consider upgrading via the '/opt/anaconda3/bin/python -m pip install --upgrade pip' command.\u001b[0m\n",
      "Note: you may need to restart the kernel to use updated packages.\n"
     ]
    }
   ],
   "source": [
    "pip install multiset"
   ]
  },
  {
   "cell_type": "code",
   "execution_count": 2,
   "metadata": {},
   "outputs": [
    {
     "name": "stdout",
     "output_type": "stream",
     "text": [
      "Name: multiset\n",
      "Version: 2.1.1\n",
      "Summary: An implementation of a multiset.\n",
      "Home-page: https://github.com/wheerd/multiset\n",
      "Author: Manuel Krebber\n",
      "Author-email: admin@wheerd.de\n",
      "License: MIT\n",
      "Location: /opt/anaconda3/lib/python3.7/site-packages\n",
      "Requires: \n",
      "Required-by: \n",
      "Note: you may need to restart the kernel to use updated packages.\n"
     ]
    }
   ],
   "source": [
    "pip show multiset"
   ]
  },
  {
   "cell_type": "markdown",
   "metadata": {},
   "source": [
    "## The HybridSurfaceCodeGraph Class"
   ]
  },
  {
   "cell_type": "code",
   "execution_count": 3,
   "metadata": {},
   "outputs": [],
   "source": [
    "from collections import Counter\n",
    "from typing import Tuple, List\n",
    "import numpy as np\n",
    "\n",
    "from networkx import MultiGraph\n",
    "from networkx import nx\n",
    "from networkx.algorithms import bipartite\n",
    "from sympy.combinatorics import Permutation\n",
    "\n",
    "import matplotlib.pyplot as plt\n",
    "import multiset\n",
    "from multiset import Multiset\n",
    "\n",
    "\n",
    "# from SurfaceCodes.utilites import permlist_to_tuple\n",
    "\n",
    "\n",
    "class HybridSurfaceCodeGraph(MultiGraph):\n",
    "    def __init__(self, sigma: Tuple[Tuple[int]], alpha: Tuple[Tuple[int]]):\n",
    "        super().__init__()\n",
    "        self.sigma = sigma  # should include singletons corresponding to fixed points\n",
    "        self.alpha = alpha  # should include singletons corresponding to fixed points\n",
    "        f = self.compute_phi()\n",
    "        self.phi = self.permlist_to_tuple(f)\n",
    "        self.build_node_info()  # print dictionary for [sigma, alpha, phi]\n",
    "        self.node_dict = self.sigma_dict, self.alpha_dict, self.phi_dict\n",
    "        \n",
    "        self.node_info = [\"sigma:\", self.sigma_dict, \n",
    "                          \"alpha:\", self.alpha_dict, \n",
    "                          \"phi:\", self.phi_dict]\n",
    "\n",
    "        self.code_graph = nx.MultiGraph()\n",
    "\n",
    "        # Create black nodes for each cycle in sigma along with white nodes\n",
    "        # representing \"half edges\" around the black nodes\n",
    "        for cycle in self.sigma:\n",
    "            self.code_graph.add_node(cycle, bipartite=1)\n",
    "            for node in cycle:\n",
    "                self.code_graph.add_node(node, bipartite=0)\n",
    "                self.code_graph.add_edge(cycle, node)\n",
    "\n",
    "        # Create black nodes for each cycle in phi along with white nodes\n",
    "        # representing \"half edges\" around the black nodes\n",
    "        for cycle in self.phi:\n",
    "            self.code_graph.add_node(cycle, bipartite=1)\n",
    "            for node in cycle:\n",
    "                self.code_graph.add_edge(cycle, node)\n",
    "\n",
    "        # Create nodes for each cycle in alpha then\n",
    "        # glue the nodes corresponding to a the pairs\n",
    "        for pair in self.alpha:\n",
    "            self.code_graph.add_node(pair)\n",
    "            self.code_graph = nx.contracted_nodes(self.code_graph, pair[0], pair[1], self_loops=True)\n",
    "            # Now contract pair with pair[0] to make sure edges (white nodes) are labeled\n",
    "            # by the pairs in alpha to keep track of the gluing from the previous step\n",
    "            self.code_graph = nx.contracted_nodes(self.code_graph, pair, pair[0], self_loops=True)\n",
    "            \n",
    "        # Define the white and black nodes. White correspond to edges labeled by \n",
    "        # cycles in alpha. Black correspond to nodes labeled by cycles in sigma\n",
    "        # (vertices) and phi (faces)\n",
    "        self.black_nodes, self.white_nodes = bipartite.sets(self.code_graph)\n",
    "        self.vertex_basis()\n",
    "        self.edge_basis()\n",
    "        self.face_basis()\n",
    "        self.d_2()\n",
    "        self.d_1()\n",
    "\n",
    "    def permlist_to_tuple(self, perms):\n",
    "        \"\"\"\n",
    "        convert list of lists to tuple of tuples in order to have two level iterables\n",
    "        that are hashable for the dictionaries used later\n",
    "        \"\"\"\n",
    "        return tuple(tuple(perm) for perm in perms)\n",
    "\n",
    "    def compute_phi(self):\n",
    "        \"\"\"compute the list of lists full cyclic form of phi (faces of dessin [sigma, alpha, phi])\"\"\"\n",
    "        s = Permutation(self.sigma)\n",
    "        a = Permutation(self.alpha)\n",
    "        f = ~(a * s)\n",
    "        f = f.full_cyclic_form  # prints permutation as a list of lists including all singletons (fixed points)\n",
    "        return f\n",
    "\n",
    "    def build_node_info(self):\n",
    "        count = -1\n",
    "\n",
    "        self.sigma_dict = dict()\n",
    "        for count, cycle in enumerate(self.sigma):\n",
    "            self.sigma_dict[cycle] = count\n",
    "\n",
    "        self.phi_dict = dict()\n",
    "        for count, cycle in enumerate(self.phi, start=count + 1):\n",
    "            self.phi_dict[cycle] = count\n",
    "\n",
    "        self.alpha_dict = dict()\n",
    "        for count, pair in enumerate(self.alpha, start=count + 1):\n",
    "            self.alpha_dict[pair] = count\n",
    "        return tuple([self.sigma_dict, self.alpha_dict, self.phi_dict])\n",
    "    \n",
    "    def boundary_1(self, edge):\n",
    "        \"\"\"\n",
    "        compute boundary of a single edge given by a white node (cycle in alpha)\n",
    "        \"\"\"\n",
    "        boundary1 = [node for node in self.code_graph.neighbors(edge) if node in self.sigma_dict]\n",
    "        return boundary1\n",
    "    \n",
    "    def del_1(self, edges: List[Tuple[int]]):\n",
    "        \"\"\"\n",
    "        boundary of a list of edges, i.e. an arbitrary 1-chain over Z/2Z\n",
    "        \"\"\"\n",
    "        boundary_list = Multiset()\n",
    "        for edge in edges:\n",
    "            boundary_list.update(Multiset(self.boundary_1(edge)))\n",
    "        return boundary_list\n",
    "\n",
    "    def boundary_2(self, face):\n",
    "        \"\"\"\n",
    "        compute boundary of a single face\n",
    "        \"\"\"\n",
    "        boundary2 = list(self.code_graph.neighbors(face))\n",
    "        return boundary2\n",
    "\n",
    "    def del_2(self, faces: List[Tuple[int]]):\n",
    "        \"\"\"\n",
    "        boundary of a list of faces, i.e. an arbitrary 2-chain over Z/2Z\n",
    "        \"\"\"\n",
    "        boundary_list = Multiset()\n",
    "        for face in faces:\n",
    "            boundary_list.update(Multiset(self.boundary_2(face)))\n",
    "        return boundary_list\n",
    "\n",
    "    def coboundary_1(self, star):\n",
    "        \"\"\"\n",
    "        compute coboundary of a single star\n",
    "        \"\"\"\n",
    "        coboundary = self.code_graph.neighbors(star)\n",
    "        return coboundary\n",
    "\n",
    "    def delta_1(self, stars: List[Tuple[int]]):\n",
    "        \"\"\"\n",
    "        coboundary of a list of stars, i.e. an arbitrary 0-cochain over Z/2Z\n",
    "        \"\"\"\n",
    "        coboundary_list = Multiset()\n",
    "        for star in stars:\n",
    "            coboundary_list.update(Multiset(self.boundary_1(star)))\n",
    "        return coboundary_list\n",
    "    \n",
    "    def coboundary_2(self, edge):\n",
    "        \"\"\"\n",
    "        compute coboundary of a single edge given by a white node (cycle in alpha)\n",
    "        \"\"\"\n",
    "        coboundary2 = [node for node in self.code_graph.neighbors(edge) if node in self.phi_dict]\n",
    "        return coboundary2\n",
    "    \n",
    "    def delta_2(self, edges: List[Tuple[int]]):\n",
    "        \"\"\"\n",
    "        coboundary of a list of edges, i.e. an arbitrary 1-cochain over Z/2Z\n",
    "        given by a list of cycles in alpha\n",
    "        \"\"\"\n",
    "        coboundary_list = Multiset()\n",
    "        for edge in edges:\n",
    "            coboundary_list.update(Multiset(self.boundary_1(edge)))\n",
    "        return coboundary_list\n",
    "\n",
    "    def euler_characteristic(self):\n",
    "        \"\"\"\n",
    "        Compute the Euler characteristic of the surface in which the graph is embedded\n",
    "        \"\"\"\n",
    "        chi = len(self.phi) - len(self.alpha) + len(self.sigma)\n",
    "        return (chi)\n",
    "\n",
    "    def genus(self):\n",
    "        \"\"\"\n",
    "        Compute the genus of the surface in which the graph is embedded\n",
    "        \"\"\"\n",
    "        g = int(-(len(self.phi) - len(self.alpha) + len(self.sigma) - 2) / 2)\n",
    "        return (g)\n",
    "    \n",
    "    \n",
    "    def vertex_basis(self):\n",
    "        self.v_basis_dict = dict()\n",
    "        self.v_dict = dict()\n",
    "        A = np.eye(len(self.sigma), dtype=np.uint8)\n",
    "        for count, cycle in enumerate(self.sigma):\n",
    "            self.v_dict[cycle] = count\n",
    "            self.v_basis_dict[cycle] = A[:, count]\n",
    "\n",
    "    def edge_basis(self):\n",
    "        self.e_basis_dict = dict()\n",
    "        self.e_dict = dict()\n",
    "        B = np.eye(len(self.alpha), dtype=np.uint8)\n",
    "        for count, cycle in enumerate(self.alpha):\n",
    "            self.e_dict[cycle] = count\n",
    "            self.e_basis_dict[cycle] = B[count, :].reshape(1,-1)\n",
    "\n",
    "    def face_basis(self):\n",
    "        self.f_basis_dict = dict()\n",
    "        self.f_dict = dict()\n",
    "        C = np.eye(len(self.phi), dtype=np.uint8)\n",
    "        for count, cycle in enumerate(self.phi):\n",
    "            self.f_dict[cycle] = count\n",
    "            self.f_basis_dict[cycle] = C[count, :].reshape(1,-1)\n",
    "\n",
    "    def d_2(self):\n",
    "        \"\"\"\n",
    "        Create the matrix D2 for the differential d_2 in the chain complex\n",
    "        that maps faces to their boundary edges. This can be used in the homology\n",
    "        class as one of the input matrices.\n",
    "        :return: matrix D2 of the differential d_2\n",
    "        \"\"\"\n",
    "        self.D2 = np.zeros(len(self.e_basis_dict), dtype=np.uint8)\n",
    "        for cycle in self.phi:\n",
    "            bd = self.boundary_2(cycle)\n",
    "            if bd != []:\n",
    "                image = sum([self.e_basis_dict[edge] for edge in bd])\n",
    "            else:\n",
    "                image = np.zeros(len(self.e_basis_dict))\n",
    "            self.D2 = np.vstack((self.D2, image))\n",
    "        self.D2 = np.array(self.D2[1:, :]).T\n",
    "    \n",
    "    def d_1(self):\n",
    "        \"\"\"\n",
    "        Create the matrix D1 for the differential d_1 in the chain complex\n",
    "        that maps edges to their boundary vertices. This can be used in the homology\n",
    "        class as one of the input matrices\n",
    "        :return: matrix D1 of the differential d_1\n",
    "        \"\"\"\n",
    "        self.D1 = np.zeros(len(self.v_basis_dict), dtype=np.uint8)\n",
    "        for cycle in self.alpha:\n",
    "            bd = self.boundary_1(cycle)\n",
    "            if bd != []:\n",
    "                image = sum([self.v_basis_dict[vertex] for vertex in bd])\n",
    "            else:\n",
    "                image = np.zeros(len(self.v_basis_dict))\n",
    "            self.D1 = np.vstack((self.D1, image))\n",
    "        self.D1 = np.array(self.D1[1:, :]).T\n",
    "    \n",
    "    def draw(self, node_type='', layout = ''):\n",
    "        \"\"\"\n",
    "        Draw graph with vertices, edges, and faces labeled by colored nodes and their integer indices \n",
    "        corresponding to the qubit indices for the surface code\n",
    "        \"\"\"\n",
    "        if not node_type in ['cycles', 'dict']:\n",
    "            raise ValueError('node_type can be \"cycles\" or \"dict\"')\n",
    "        \n",
    "        if layout == 'spring':\n",
    "            pos=nx.spring_layout(self.code_graph)\n",
    "        if layout == 'spectral':\n",
    "            pos=nx.spectral_layout(self.code_graph)\n",
    "        if layout == 'planar':\n",
    "            pos=nx.planar_layout(self.code_graph)\n",
    "        if layout == 'shell':\n",
    "            pos=nx.shell_layout(self.code_graph)\n",
    "        if layout == 'circular':\n",
    "            pos=nx.circular_layout(self.code_graph)\n",
    "        if layout == 'spiral':\n",
    "            pos=nx.spiral_layout(self.code_graph)\n",
    "        if layout == 'random':\n",
    "            pos=nx.random_layout(self.code_graph)\n",
    "        # white nodes\n",
    "        nx.draw_networkx_nodes(self.code_graph, pos,\n",
    "                       nodelist=list(self.alpha),\n",
    "                       node_color='c',\n",
    "                       node_size=500,\n",
    "                    alpha=0.3)\n",
    "        # vertex nodes\n",
    "        nx.draw_networkx_nodes(self.code_graph, pos,\n",
    "                       nodelist=list(self.sigma),\n",
    "                       node_color='b',\n",
    "                       node_size=500,\n",
    "                    alpha=0.6)\n",
    "         # face nodes\n",
    "        nx.draw_networkx_nodes(self.code_graph, pos,\n",
    "                       nodelist=list(self.phi),\n",
    "                       node_color='r',\n",
    "                       node_size=500,\n",
    "                    alpha=0.6)\n",
    "        # edges\n",
    "        nx.draw_networkx_edges(self.code_graph, pos, width=1.0, alpha=0.5)\n",
    "\n",
    "        labels={}\n",
    "\n",
    "        if node_type == 'cycles':\n",
    "            '''\n",
    "            label nodes the cycles of sigma, alpha, and phi\n",
    "            '''\n",
    "            for node in self.alpha_dict:\n",
    "                # stuff = self.alpha_dict[node]\n",
    "                labels[node]=f'$e$({node})'\n",
    "            for node in self.sigma_dict:\n",
    "                # something = self.sigma_dict[node]\n",
    "                labels[node]=f'$v$({node})'\n",
    "            for node in self.phi_dict:\n",
    "                # something2 = self.phi_dict[node]\n",
    "                labels[node]=f'$f$({node})'\n",
    "            nx.draw_networkx_labels(self.code_graph, pos, labels, font_size=12)\n",
    "\n",
    "        if node_type == 'dict':\n",
    "            '''\n",
    "            label nodes with v, e, f and indices given by node_dict corresponding to\n",
    "            qubit indices of surface code\n",
    "            '''\n",
    "\n",
    "            for node in self.alpha_dict:\n",
    "                # stuff = self.alpha_dict[node]\n",
    "                labels[node]=f'$e$({self.alpha_dict[node]})'\n",
    "            for node in self.sigma_dict:\n",
    "                # something = self.sigma_dict[node]\n",
    "                labels[node]=f'$v$({self.sigma_dict[node]})'\n",
    "            for node in self.phi_dict:\n",
    "                # something2 = self.phi_dict[node]\n",
    "                labels[node]=f'$f$({self.phi_dict[node]})'\n",
    "            nx.draw_networkx_labels(self.code_graph, pos, labels, font_size=12)\n",
    "        \n",
    "        # plt.axis('off')\n",
    "        # plt.savefig(\"labels_and_colors.png\") # save as png\n",
    "        plt.show() # display"
   ]
  },
  {
   "cell_type": "markdown",
   "metadata": {},
   "source": [
    "Much of this class works in a very similar way to the `SurfaceCodeGraph` class, which can be found [here](https://github.com/The-Singularity-Research/SurfaceCodes). We first define a constellation by defining $\\sigma$ and $\\alpha$. "
   ]
  },
  {
   "cell_type": "code",
   "execution_count": 4,
   "metadata": {},
   "outputs": [
    {
     "data": {
      "text/plain": [
       "<__main__.HybridSurfaceCodeGraph at 0x7fe10256b350>"
      ]
     },
     "execution_count": 4,
     "metadata": {},
     "output_type": "execute_result"
    }
   ],
   "source": [
    "sigma = ((0,1,2),(3,4,5),(6,7))\n",
    "alpha = ((0,3),(1,6),(2,4),(5,7))\n",
    "SCG = HybridSurfaceCodeGraph(sigma, alpha)\n",
    "SCG"
   ]
  },
  {
   "cell_type": "markdown",
   "metadata": {},
   "source": [
    "The `draw` method draws the graph with face nodes in red, vertex nodes in blue, and edge nodes in cyan. The `'cycles'` option labels the nodes by the corresponding cycles. "
   ]
  },
  {
   "cell_type": "code",
   "execution_count": 5,
   "metadata": {},
   "outputs": [
    {
     "data": {
      "image/png": "[encoded data removed]",
      "text/plain": [
       "<Figure size 432x288 with 1 Axes>"
      ]
     },
     "metadata": {},
     "output_type": "display_data"
    }
   ],
   "source": [
    "SCG.draw('cycles', 'spring')"
   ]
  },
  {
   "cell_type": "markdown",
   "metadata": {},
   "source": [
    "We can also print $\\sigma$, $\\alpha$, and $\\phi$ to get a tuple of tuples (cycles). "
   ]
  },
  {
   "cell_type": "code",
   "execution_count": 6,
   "metadata": {},
   "outputs": [
    {
     "data": {
      "text/plain": [
       "((0, 4), (1, 3, 7), (2, 6, 5))"
      ]
     },
     "execution_count": 6,
     "metadata": {},
     "output_type": "execute_result"
    }
   ],
   "source": [
    "SCG.phi"
   ]
  },
  {
   "cell_type": "markdown",
   "metadata": {},
   "source": [
    "The `node_info` prints a dictionary for $\\sigma$, $\\alpha$, and $\\phi$."
   ]
  },
  {
   "cell_type": "code",
   "execution_count": 7,
   "metadata": {},
   "outputs": [
    {
     "data": {
      "text/plain": [
       "['sigma:',\n",
       " {(0, 1, 2): 0, (3, 4, 5): 1, (6, 7): 2},\n",
       " 'alpha:',\n",
       " {(0, 3): 6, (1, 6): 7, (2, 4): 8, (5, 7): 9},\n",
       " 'phi:',\n",
       " {(0, 4): 3, (1, 3, 7): 4, (2, 6, 5): 5}]"
      ]
     },
     "execution_count": 7,
     "metadata": {},
     "output_type": "execute_result"
    }
   ],
   "source": [
    "SCG.node_info"
   ]
  },
  {
   "cell_type": "markdown",
   "metadata": {},
   "source": [
    "We can also print off all of the nodes in the graph. "
   ]
  },
  {
   "cell_type": "code",
   "execution_count": 8,
   "metadata": {},
   "outputs": [
    {
     "data": {
      "text/plain": [
       "NodeView(((0, 1, 2), (3, 4, 5), (6, 7), (0, 4), (1, 3, 7), (2, 6, 5), (0, 3), (1, 6), (2, 4), (5, 7)))"
      ]
     },
     "execution_count": 8,
     "metadata": {},
     "output_type": "execute_result"
    }
   ],
   "source": [
    "SCG.code_graph.nodes"
   ]
  },
  {
   "cell_type": "markdown",
   "metadata": {},
   "source": [
    "The following prints of the \"black nodes\" and \"white nodes\". Black corresponds to vertex and face nodes, and white corrsponds to edge nodes. "
   ]
  },
  {
   "cell_type": "code",
   "execution_count": 9,
   "metadata": {},
   "outputs": [
    {
     "data": {
      "text/plain": [
       "({(0, 1, 2), (0, 4), (1, 3, 7), (2, 6, 5), (3, 4, 5), (6, 7)},\n",
       " {(0, 3), (1, 6), (2, 4), (5, 7)})"
      ]
     },
     "execution_count": 9,
     "metadata": {},
     "output_type": "execute_result"
    }
   ],
   "source": [
    "bipartite.sets(SCG.code_graph)"
   ]
  },
  {
   "cell_type": "code",
   "execution_count": 10,
   "metadata": {},
   "outputs": [
    {
     "data": {
      "text/plain": [
       "{(0, 3), (1, 6), (2, 4), (5, 7)}"
      ]
     },
     "execution_count": 10,
     "metadata": {},
     "output_type": "execute_result"
    }
   ],
   "source": [
    "SCG.white_nodes"
   ]
  },
  {
   "cell_type": "code",
   "execution_count": 11,
   "metadata": {},
   "outputs": [
    {
     "data": {
      "text/plain": [
       "{(0, 1, 2), (0, 4), (1, 3, 7), (2, 6, 5), (3, 4, 5), (6, 7)}"
      ]
     },
     "execution_count": 11,
     "metadata": {},
     "output_type": "execute_result"
    }
   ],
   "source": [
    "SCG.black_nodes"
   ]
  },
  {
   "cell_type": "markdown",
   "metadata": {},
   "source": [
    "The other option for drawing the graph is `'dict'` which labels the nodes by their indices in the `node_info` dictionary. "
   ]
  },
  {
   "cell_type": "code",
   "execution_count": 12,
   "metadata": {},
   "outputs": [
    {
     "data": {
      "image/png": "[encoded data removed]",
      "text/plain": [
       "<Figure size 432x288 with 1 Axes>"
      ]
     },
     "metadata": {},
     "output_type": "display_data"
    }
   ],
   "source": [
    "SCG.draw('dict', 'spring')"
   ]
  },
  {
   "cell_type": "markdown",
   "metadata": {},
   "source": [
    "We can compute the Euler characteristic of the dessin. "
   ]
  },
  {
   "cell_type": "code",
   "execution_count": 13,
   "metadata": {},
   "outputs": [
    {
     "data": {
      "text/plain": [
       "2"
      ]
     },
     "execution_count": 13,
     "metadata": {},
     "output_type": "execute_result"
    }
   ],
   "source": [
    "SCG.euler_characteristic()"
   ]
  },
  {
   "cell_type": "markdown",
   "metadata": {},
   "source": [
    "We can also compute the genus. "
   ]
  },
  {
   "cell_type": "code",
   "execution_count": 14,
   "metadata": {},
   "outputs": [
    {
     "data": {
      "text/plain": [
       "0"
      ]
     },
     "execution_count": 14,
     "metadata": {},
     "output_type": "execute_result"
    }
   ],
   "source": [
    "SCG.genus()"
   ]
  },
  {
   "cell_type": "markdown",
   "metadata": {},
   "source": [
    "There are boundary and coboundary operators to compute the boundary and coboundary of lists of vertices, edges, or faces. `del_1` and `del_2` as well as `delta_1` and `delta_2` take into account multiplicity allowing for coefficients in $\\mathbb{Z}$. "
   ]
  },
  {
   "cell_type": "code",
   "execution_count": 15,
   "metadata": {},
   "outputs": [
    {
     "data": {
      "text/plain": [
       "[(0, 3), (2, 4)]"
      ]
     },
     "execution_count": 15,
     "metadata": {},
     "output_type": "execute_result"
    }
   ],
   "source": [
    "SCG.boundary_2((0,4))"
   ]
  },
  {
   "cell_type": "code",
   "execution_count": 16,
   "metadata": {},
   "outputs": [
    {
     "data": {
      "text/plain": [
       "[(0, 3), (1, 6), (5, 7)]"
      ]
     },
     "execution_count": 16,
     "metadata": {},
     "output_type": "execute_result"
    }
   ],
   "source": [
    "SCG.boundary_2((1,3,7))"
   ]
  },
  {
   "cell_type": "code",
   "execution_count": 17,
   "metadata": {},
   "outputs": [
    {
     "data": {
      "text/plain": [
       "[(0, 1, 2), (3, 4, 5)]"
      ]
     },
     "execution_count": 17,
     "metadata": {},
     "output_type": "execute_result"
    }
   ],
   "source": [
    "SCG.boundary_1((0,3))"
   ]
  },
  {
   "cell_type": "code",
   "execution_count": 18,
   "metadata": {},
   "outputs": [
    {
     "data": {
      "text/plain": [
       "[(0, 1, 2), (6, 7)]"
      ]
     },
     "execution_count": 18,
     "metadata": {},
     "output_type": "execute_result"
    }
   ],
   "source": [
    "SCG.boundary_1((1,6))"
   ]
  },
  {
   "cell_type": "code",
   "execution_count": 19,
   "metadata": {},
   "outputs": [
    {
     "data": {
      "text/plain": [
       "Multiset({(0, 3): 1, (2, 4): 1})"
      ]
     },
     "execution_count": 19,
     "metadata": {},
     "output_type": "execute_result"
    }
   ],
   "source": [
    "SCG.del_2([(0, 4)])"
   ]
  },
  {
   "cell_type": "code",
   "execution_count": 20,
   "metadata": {},
   "outputs": [
    {
     "data": {
      "text/plain": [
       "Multiset({(0, 3): 1, (1, 6): 1, (5, 7): 1})"
      ]
     },
     "execution_count": 20,
     "metadata": {},
     "output_type": "execute_result"
    }
   ],
   "source": [
    "SCG.del_2([(1,3,7)])"
   ]
  },
  {
   "cell_type": "code",
   "execution_count": 21,
   "metadata": {},
   "outputs": [
    {
     "data": {
      "text/plain": [
       "Multiset({(0, 3): 2, (2, 4): 1, (1, 6): 1, (5, 7): 1})"
      ]
     },
     "execution_count": 21,
     "metadata": {},
     "output_type": "execute_result"
    }
   ],
   "source": [
    "SCG.del_2([(0, 4), (1,3,7)])"
   ]
  },
  {
   "cell_type": "markdown",
   "metadata": {},
   "source": [
    "To define basis vectors for the vector spaces in the chain complex\n",
    "\n",
    "\\begin{align}\n",
    "C_2 \\to C_1 \\to C_0\n",
    "\\end{align}\n",
    "\n",
    "which might also be labeled\n",
    "\n",
    "\\begin{align}\n",
    "F \\to E \\to V\n",
    "\\end{align}\n",
    "\n",
    "we have the following methods. "
   ]
  },
  {
   "cell_type": "code",
   "execution_count": 22,
   "metadata": {},
   "outputs": [
    {
     "data": {
      "text/plain": [
       "{(0, 4): array([[1, 0, 0]], dtype=uint8),\n",
       " (1, 3, 7): array([[0, 1, 0]], dtype=uint8),\n",
       " (2, 6, 5): array([[0, 0, 1]], dtype=uint8)}"
      ]
     },
     "execution_count": 22,
     "metadata": {},
     "output_type": "execute_result"
    }
   ],
   "source": [
    "SCG.f_basis_dict"
   ]
  },
  {
   "cell_type": "code",
   "execution_count": 23,
   "metadata": {},
   "outputs": [
    {
     "data": {
      "text/plain": [
       "{(0, 3): array([[1, 0, 0, 0]], dtype=uint8),\n",
       " (1, 6): array([[0, 1, 0, 0]], dtype=uint8),\n",
       " (2, 4): array([[0, 0, 1, 0]], dtype=uint8),\n",
       " (5, 7): array([[0, 0, 0, 1]], dtype=uint8)}"
      ]
     },
     "execution_count": 23,
     "metadata": {},
     "output_type": "execute_result"
    }
   ],
   "source": [
    "SCG.e_basis_dict"
   ]
  },
  {
   "cell_type": "code",
   "execution_count": 24,
   "metadata": {},
   "outputs": [
    {
     "data": {
      "text/plain": [
       "{(0, 1, 2): array([1, 0, 0], dtype=uint8),\n",
       " (3, 4, 5): array([0, 1, 0], dtype=uint8),\n",
       " (6, 7): array([0, 0, 1], dtype=uint8)}"
      ]
     },
     "execution_count": 24,
     "metadata": {},
     "output_type": "execute_result"
    }
   ],
   "source": [
    "SCG.v_basis_dict"
   ]
  },
  {
   "cell_type": "markdown",
   "metadata": {},
   "source": [
    "We also have matrix representations of the boundary operators $\\partial_2: C_2 \\to C_1$ and $\\partial_1: C_1 \\to C_0$, we have the following methods.  "
   ]
  },
  {
   "cell_type": "code",
   "execution_count": 25,
   "metadata": {},
   "outputs": [
    {
     "data": {
      "text/plain": [
       "array([[1, 1, 0],\n",
       "       [0, 1, 1],\n",
       "       [1, 0, 1],\n",
       "       [0, 1, 1]], dtype=uint8)"
      ]
     },
     "execution_count": 25,
     "metadata": {},
     "output_type": "execute_result"
    }
   ],
   "source": [
    "SCG.D2"
   ]
  },
  {
   "cell_type": "code",
   "execution_count": 26,
   "metadata": {},
   "outputs": [
    {
     "data": {
      "text/plain": [
       "array([[1, 1, 1, 0],\n",
       "       [1, 0, 1, 1],\n",
       "       [0, 1, 0, 1]], dtype=uint8)"
      ]
     },
     "execution_count": 26,
     "metadata": {},
     "output_type": "execute_result"
    }
   ],
   "source": [
    "SCG.D1"
   ]
  },
  {
   "cell_type": "markdown",
   "metadata": {},
   "source": [
    "The purpose of this was of course to generalize surface codes to the case of hybrid qudits. As a secondary goal we also wish to give a way to implement the Hilbert-Polya conjecture using the mathematics mentioned in some of the following papers which served as inspira"
   ]
  },
  {
   "cell_type": "markdown",
   "metadata": {},
   "source": [
    "## References"
   ]
  },
  {
   "cell_type": "markdown",
   "metadata": {},
   "source": [
    "\n",
    "- [Synthesis of multi-qudit Hybrid and d-valued Quantum Logic Circuits by Decomposition](https://arxiv.org/pdf/quant-ph/0511019v1.pdf)\n",
    "\n",
    "- [Quantum gates on hybrid qudits](https://arxiv.org/pdf/quant-ph/0211185.pdf)\n",
    "\n",
    "- [Qudit surface codes and gauge theory with finite\n",
    "cyclic groups](https://arxiv.org/pdf/quant-ph/0609070.pdf)\n",
    "\n",
    "- [A fast fault-tolerant decoder for qubit and qudit surface codes](https://arxiv.org/pdf/1411.3028.pdf)\n",
    "\n",
    "- [Projecting onto Qubit Irreps of Young Diagrams](https://arxiv.org/pdf/quant-ph/0608150.pdf)\n",
    "\n",
    "- [The Riemann zeros as spectrum and the Riemann hypothesis](https://arxiv.org/pdf/1601.01797.pdf)\n",
    "\n",
    "- [Hilbert-Polya Conjecture, Zeta-functions, and Bosonic Quantum Field Theories](https://arxiv.org/pdf/1305.3342.pdf)\n",
    "\n",
    "- [Affine Schubert Varieties and Circular Complexes](https://arxiv.org/pdf/math/0210151.pdf)\n",
    "\n",
    "- [SURFACE ALGEBRAS I: DESSINS D’ENFANTS, SURFACE ALGEBRAS, AND DESSIN\n",
    "ORDERS](https://arxiv.org/pdf/1810.06750.pdf)\n",
    "\n",
    "- [SURFACE ALGEBRAS AND SURFACE ORDERS II: AFFINE BUNDLES ON CURVES](https://arxiv.org/pdf/1812.00621.pdf)"
   ]
  },
  {
   "cell_type": "code",
   "execution_count": null,
   "metadata": {},
   "outputs": [],
   "source": []
  }
 ],
 "metadata": {
  "kernelspec": {
   "display_name": "Python 3",
   "language": "python",
   "name": "python3"
  },
  "language_info": {
   "codemirror_mode": {
    "name": "ipython",
    "version": 3
   },
   "file_extension": ".py",
   "mimetype": "text/x-python",
   "name": "python",
   "nbconvert_exporter": "python",
   "pygments_lexer": "ipython3",
   "version": "3.7.6"
  }
 },
 "nbformat": 4,
 "nbformat_minor": 4
}
